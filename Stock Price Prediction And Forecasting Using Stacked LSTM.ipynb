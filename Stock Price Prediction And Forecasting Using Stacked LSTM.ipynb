{
 "cells": [
  {
   "cell_type": "markdown",
   "id": "59c62abe",
   "metadata": {},
   "source": [
    "## Stock Price Prediction And Forecasting Using Stacked LSTM"
   ]
  },
  {
   "cell_type": "markdown",
   "id": "0383b86d",
   "metadata": {},
   "source": [
    "#### In this mini-project we will look into predictions for stocks and also forecasting them \n",
    "LSTM is a great tool for this project due to its functionality and also its ability to store,update,remember data"
   ]
  },
  {
   "cell_type": "code",
   "execution_count": 1,
   "id": "3917b818",
   "metadata": {},
   "outputs": [],
   "source": [
    "from ipynb.fs.full.API_KEY import apikey\n",
    "key=apikey()"
   ]
  },
  {
   "cell_type": "code",
   "execution_count": 2,
   "id": "e464e918",
   "metadata": {},
   "outputs": [],
   "source": [
    "import pandas_datareader as pdr"
   ]
  },
  {
   "cell_type": "code",
   "execution_count": 195,
   "id": "9029fefb",
   "metadata": {},
   "outputs": [],
   "source": [
    "df=pdr.get_data_tiingo('AAPL',api_key=key)"
   ]
  },
  {
   "cell_type": "code",
   "execution_count": 196,
   "id": "575f27e3",
   "metadata": {},
   "outputs": [],
   "source": [
    "df.to_csv('AAPL.csv')"
   ]
  },
  {
   "cell_type": "code",
   "execution_count": 197,
   "id": "a57812df",
   "metadata": {},
   "outputs": [],
   "source": [
    "import pandas as pd"
   ]
  },
  {
   "cell_type": "code",
   "execution_count": 198,
   "id": "1021a05a",
   "metadata": {},
   "outputs": [],
   "source": [
    "df=pd.read_csv('AAPL.csv')"
   ]
  },
  {
   "cell_type": "code",
   "execution_count": 199,
   "id": "1113dce0",
   "metadata": {},
   "outputs": [
    {
     "data": {
      "text/html": [
       "<div>\n",
       "<style scoped>\n",
       "    .dataframe tbody tr th:only-of-type {\n",
       "        vertical-align: middle;\n",
       "    }\n",
       "\n",
       "    .dataframe tbody tr th {\n",
       "        vertical-align: top;\n",
       "    }\n",
       "\n",
       "    .dataframe thead th {\n",
       "        text-align: right;\n",
       "    }\n",
       "</style>\n",
       "<table border=\"1\" class=\"dataframe\">\n",
       "  <thead>\n",
       "    <tr style=\"text-align: right;\">\n",
       "      <th></th>\n",
       "      <th>symbol</th>\n",
       "      <th>date</th>\n",
       "      <th>close</th>\n",
       "      <th>high</th>\n",
       "      <th>low</th>\n",
       "      <th>open</th>\n",
       "      <th>volume</th>\n",
       "      <th>adjClose</th>\n",
       "      <th>adjHigh</th>\n",
       "      <th>adjLow</th>\n",
       "      <th>adjOpen</th>\n",
       "      <th>adjVolume</th>\n",
       "      <th>divCash</th>\n",
       "      <th>splitFactor</th>\n",
       "    </tr>\n",
       "  </thead>\n",
       "  <tbody>\n",
       "    <tr>\n",
       "      <th>0</th>\n",
       "      <td>AAPL</td>\n",
       "      <td>2016-11-11 00:00:00+00:00</td>\n",
       "      <td>108.43</td>\n",
       "      <td>108.870</td>\n",
       "      <td>106.5500</td>\n",
       "      <td>106.92</td>\n",
       "      <td>34143898</td>\n",
       "      <td>25.512733</td>\n",
       "      <td>25.616261</td>\n",
       "      <td>25.070384</td>\n",
       "      <td>25.157442</td>\n",
       "      <td>136575592</td>\n",
       "      <td>0.0</td>\n",
       "      <td>1.0</td>\n",
       "    </tr>\n",
       "    <tr>\n",
       "      <th>1</th>\n",
       "      <td>AAPL</td>\n",
       "      <td>2016-11-14 00:00:00+00:00</td>\n",
       "      <td>105.71</td>\n",
       "      <td>107.809</td>\n",
       "      <td>104.0800</td>\n",
       "      <td>107.32</td>\n",
       "      <td>51175504</td>\n",
       "      <td>24.872738</td>\n",
       "      <td>25.366616</td>\n",
       "      <td>24.489212</td>\n",
       "      <td>25.251559</td>\n",
       "      <td>204702016</td>\n",
       "      <td>0.0</td>\n",
       "      <td>1.0</td>\n",
       "    </tr>\n",
       "    <tr>\n",
       "      <th>2</th>\n",
       "      <td>AAPL</td>\n",
       "      <td>2016-11-15 00:00:00+00:00</td>\n",
       "      <td>107.11</td>\n",
       "      <td>107.680</td>\n",
       "      <td>106.1593</td>\n",
       "      <td>106.57</td>\n",
       "      <td>32264510</td>\n",
       "      <td>25.202147</td>\n",
       "      <td>25.336264</td>\n",
       "      <td>24.978455</td>\n",
       "      <td>25.075089</td>\n",
       "      <td>129058040</td>\n",
       "      <td>0.0</td>\n",
       "      <td>1.0</td>\n",
       "    </tr>\n",
       "    <tr>\n",
       "      <th>3</th>\n",
       "      <td>AAPL</td>\n",
       "      <td>2016-11-16 00:00:00+00:00</td>\n",
       "      <td>109.99</td>\n",
       "      <td>110.230</td>\n",
       "      <td>106.6000</td>\n",
       "      <td>106.70</td>\n",
       "      <td>58840522</td>\n",
       "      <td>25.879789</td>\n",
       "      <td>25.936259</td>\n",
       "      <td>25.082148</td>\n",
       "      <td>25.105677</td>\n",
       "      <td>235362088</td>\n",
       "      <td>0.0</td>\n",
       "      <td>1.0</td>\n",
       "    </tr>\n",
       "    <tr>\n",
       "      <th>4</th>\n",
       "      <td>AAPL</td>\n",
       "      <td>2016-11-17 00:00:00+00:00</td>\n",
       "      <td>109.95</td>\n",
       "      <td>110.350</td>\n",
       "      <td>108.8300</td>\n",
       "      <td>109.81</td>\n",
       "      <td>27632003</td>\n",
       "      <td>25.870377</td>\n",
       "      <td>25.964494</td>\n",
       "      <td>25.606850</td>\n",
       "      <td>25.837436</td>\n",
       "      <td>110528012</td>\n",
       "      <td>0.0</td>\n",
       "      <td>1.0</td>\n",
       "    </tr>\n",
       "    <tr>\n",
       "      <th>5</th>\n",
       "      <td>AAPL</td>\n",
       "      <td>2016-11-18 00:00:00+00:00</td>\n",
       "      <td>110.06</td>\n",
       "      <td>110.540</td>\n",
       "      <td>109.6600</td>\n",
       "      <td>109.72</td>\n",
       "      <td>28428917</td>\n",
       "      <td>25.896259</td>\n",
       "      <td>26.009199</td>\n",
       "      <td>25.802142</td>\n",
       "      <td>25.816260</td>\n",
       "      <td>113715668</td>\n",
       "      <td>0.0</td>\n",
       "      <td>1.0</td>\n",
       "    </tr>\n",
       "    <tr>\n",
       "      <th>6</th>\n",
       "      <td>AAPL</td>\n",
       "      <td>2016-11-21 00:00:00+00:00</td>\n",
       "      <td>111.73</td>\n",
       "      <td>111.990</td>\n",
       "      <td>110.0100</td>\n",
       "      <td>110.12</td>\n",
       "      <td>29264571</td>\n",
       "      <td>26.289197</td>\n",
       "      <td>26.350373</td>\n",
       "      <td>25.884495</td>\n",
       "      <td>25.910377</td>\n",
       "      <td>117058284</td>\n",
       "      <td>0.0</td>\n",
       "      <td>1.0</td>\n",
       "    </tr>\n",
       "    <tr>\n",
       "      <th>7</th>\n",
       "      <td>AAPL</td>\n",
       "      <td>2016-11-22 00:00:00+00:00</td>\n",
       "      <td>111.80</td>\n",
       "      <td>112.420</td>\n",
       "      <td>111.4000</td>\n",
       "      <td>111.95</td>\n",
       "      <td>25965534</td>\n",
       "      <td>26.305668</td>\n",
       "      <td>26.451549</td>\n",
       "      <td>26.211551</td>\n",
       "      <td>26.340961</td>\n",
       "      <td>103862136</td>\n",
       "      <td>0.0</td>\n",
       "      <td>1.0</td>\n",
       "    </tr>\n",
       "    <tr>\n",
       "      <th>8</th>\n",
       "      <td>AAPL</td>\n",
       "      <td>2016-11-23 00:00:00+00:00</td>\n",
       "      <td>111.23</td>\n",
       "      <td>111.510</td>\n",
       "      <td>110.3300</td>\n",
       "      <td>111.36</td>\n",
       "      <td>27426394</td>\n",
       "      <td>26.171551</td>\n",
       "      <td>26.237433</td>\n",
       "      <td>25.959788</td>\n",
       "      <td>26.202139</td>\n",
       "      <td>109705576</td>\n",
       "      <td>0.0</td>\n",
       "      <td>1.0</td>\n",
       "    </tr>\n",
       "    <tr>\n",
       "      <th>9</th>\n",
       "      <td>AAPL</td>\n",
       "      <td>2016-11-25 00:00:00+00:00</td>\n",
       "      <td>111.79</td>\n",
       "      <td>111.870</td>\n",
       "      <td>110.9500</td>\n",
       "      <td>111.13</td>\n",
       "      <td>11475922</td>\n",
       "      <td>26.303315</td>\n",
       "      <td>26.322138</td>\n",
       "      <td>26.105669</td>\n",
       "      <td>26.148022</td>\n",
       "      <td>45903688</td>\n",
       "      <td>0.0</td>\n",
       "      <td>1.0</td>\n",
       "    </tr>\n",
       "  </tbody>\n",
       "</table>\n",
       "</div>"
      ],
      "text/plain": [
       "  symbol                       date   close     high       low    open  \\\n",
       "0   AAPL  2016-11-11 00:00:00+00:00  108.43  108.870  106.5500  106.92   \n",
       "1   AAPL  2016-11-14 00:00:00+00:00  105.71  107.809  104.0800  107.32   \n",
       "2   AAPL  2016-11-15 00:00:00+00:00  107.11  107.680  106.1593  106.57   \n",
       "3   AAPL  2016-11-16 00:00:00+00:00  109.99  110.230  106.6000  106.70   \n",
       "4   AAPL  2016-11-17 00:00:00+00:00  109.95  110.350  108.8300  109.81   \n",
       "5   AAPL  2016-11-18 00:00:00+00:00  110.06  110.540  109.6600  109.72   \n",
       "6   AAPL  2016-11-21 00:00:00+00:00  111.73  111.990  110.0100  110.12   \n",
       "7   AAPL  2016-11-22 00:00:00+00:00  111.80  112.420  111.4000  111.95   \n",
       "8   AAPL  2016-11-23 00:00:00+00:00  111.23  111.510  110.3300  111.36   \n",
       "9   AAPL  2016-11-25 00:00:00+00:00  111.79  111.870  110.9500  111.13   \n",
       "\n",
       "     volume   adjClose    adjHigh     adjLow    adjOpen  adjVolume  divCash  \\\n",
       "0  34143898  25.512733  25.616261  25.070384  25.157442  136575592      0.0   \n",
       "1  51175504  24.872738  25.366616  24.489212  25.251559  204702016      0.0   \n",
       "2  32264510  25.202147  25.336264  24.978455  25.075089  129058040      0.0   \n",
       "3  58840522  25.879789  25.936259  25.082148  25.105677  235362088      0.0   \n",
       "4  27632003  25.870377  25.964494  25.606850  25.837436  110528012      0.0   \n",
       "5  28428917  25.896259  26.009199  25.802142  25.816260  113715668      0.0   \n",
       "6  29264571  26.289197  26.350373  25.884495  25.910377  117058284      0.0   \n",
       "7  25965534  26.305668  26.451549  26.211551  26.340961  103862136      0.0   \n",
       "8  27426394  26.171551  26.237433  25.959788  26.202139  109705576      0.0   \n",
       "9  11475922  26.303315  26.322138  26.105669  26.148022   45903688      0.0   \n",
       "\n",
       "   splitFactor  \n",
       "0          1.0  \n",
       "1          1.0  \n",
       "2          1.0  \n",
       "3          1.0  \n",
       "4          1.0  \n",
       "5          1.0  \n",
       "6          1.0  \n",
       "7          1.0  \n",
       "8          1.0  \n",
       "9          1.0  "
      ]
     },
     "execution_count": 199,
     "metadata": {},
     "output_type": "execute_result"
    }
   ],
   "source": [
    "df.head(10)"
   ]
  },
  {
   "cell_type": "code",
   "execution_count": 200,
   "id": "65789796",
   "metadata": {},
   "outputs": [
    {
     "data": {
      "text/html": [
       "<div>\n",
       "<style scoped>\n",
       "    .dataframe tbody tr th:only-of-type {\n",
       "        vertical-align: middle;\n",
       "    }\n",
       "\n",
       "    .dataframe tbody tr th {\n",
       "        vertical-align: top;\n",
       "    }\n",
       "\n",
       "    .dataframe thead th {\n",
       "        text-align: right;\n",
       "    }\n",
       "</style>\n",
       "<table border=\"1\" class=\"dataframe\">\n",
       "  <thead>\n",
       "    <tr style=\"text-align: right;\">\n",
       "      <th></th>\n",
       "      <th>symbol</th>\n",
       "      <th>date</th>\n",
       "      <th>close</th>\n",
       "      <th>high</th>\n",
       "      <th>low</th>\n",
       "      <th>open</th>\n",
       "      <th>volume</th>\n",
       "      <th>adjClose</th>\n",
       "      <th>adjHigh</th>\n",
       "      <th>adjLow</th>\n",
       "      <th>adjOpen</th>\n",
       "      <th>adjVolume</th>\n",
       "      <th>divCash</th>\n",
       "      <th>splitFactor</th>\n",
       "    </tr>\n",
       "  </thead>\n",
       "  <tbody>\n",
       "    <tr>\n",
       "      <th>1247</th>\n",
       "      <td>AAPL</td>\n",
       "      <td>2021-10-27 00:00:00+00:00</td>\n",
       "      <td>148.85</td>\n",
       "      <td>149.730</td>\n",
       "      <td>148.4900</td>\n",
       "      <td>149.360</td>\n",
       "      <td>56094929</td>\n",
       "      <td>148.633848</td>\n",
       "      <td>149.512570</td>\n",
       "      <td>148.274371</td>\n",
       "      <td>149.143108</td>\n",
       "      <td>56094929</td>\n",
       "      <td>0.00</td>\n",
       "      <td>1.0</td>\n",
       "    </tr>\n",
       "    <tr>\n",
       "      <th>1248</th>\n",
       "      <td>AAPL</td>\n",
       "      <td>2021-10-28 00:00:00+00:00</td>\n",
       "      <td>152.57</td>\n",
       "      <td>153.165</td>\n",
       "      <td>149.7200</td>\n",
       "      <td>149.820</td>\n",
       "      <td>100077888</td>\n",
       "      <td>152.348446</td>\n",
       "      <td>152.942582</td>\n",
       "      <td>149.502585</td>\n",
       "      <td>149.602440</td>\n",
       "      <td>100077888</td>\n",
       "      <td>0.00</td>\n",
       "      <td>1.0</td>\n",
       "    </tr>\n",
       "    <tr>\n",
       "      <th>1249</th>\n",
       "      <td>AAPL</td>\n",
       "      <td>2021-10-29 00:00:00+00:00</td>\n",
       "      <td>149.80</td>\n",
       "      <td>149.940</td>\n",
       "      <td>146.4128</td>\n",
       "      <td>147.215</td>\n",
       "      <td>124953168</td>\n",
       "      <td>149.582469</td>\n",
       "      <td>149.722265</td>\n",
       "      <td>146.200187</td>\n",
       "      <td>147.001222</td>\n",
       "      <td>124953168</td>\n",
       "      <td>0.00</td>\n",
       "      <td>1.0</td>\n",
       "    </tr>\n",
       "    <tr>\n",
       "      <th>1250</th>\n",
       "      <td>AAPL</td>\n",
       "      <td>2021-11-01 00:00:00+00:00</td>\n",
       "      <td>148.96</td>\n",
       "      <td>149.700</td>\n",
       "      <td>147.8000</td>\n",
       "      <td>148.985</td>\n",
       "      <td>73396551</td>\n",
       "      <td>148.743688</td>\n",
       "      <td>149.482614</td>\n",
       "      <td>147.585373</td>\n",
       "      <td>148.768652</td>\n",
       "      <td>73396551</td>\n",
       "      <td>0.00</td>\n",
       "      <td>1.0</td>\n",
       "    </tr>\n",
       "    <tr>\n",
       "      <th>1251</th>\n",
       "      <td>AAPL</td>\n",
       "      <td>2021-11-02 00:00:00+00:00</td>\n",
       "      <td>150.02</td>\n",
       "      <td>151.570</td>\n",
       "      <td>148.6500</td>\n",
       "      <td>148.660</td>\n",
       "      <td>68922374</td>\n",
       "      <td>149.802149</td>\n",
       "      <td>151.349898</td>\n",
       "      <td>148.434139</td>\n",
       "      <td>148.444124</td>\n",
       "      <td>68922374</td>\n",
       "      <td>0.00</td>\n",
       "      <td>1.0</td>\n",
       "    </tr>\n",
       "    <tr>\n",
       "      <th>1252</th>\n",
       "      <td>AAPL</td>\n",
       "      <td>2021-11-03 00:00:00+00:00</td>\n",
       "      <td>151.49</td>\n",
       "      <td>151.970</td>\n",
       "      <td>149.8200</td>\n",
       "      <td>150.390</td>\n",
       "      <td>54511534</td>\n",
       "      <td>151.270015</td>\n",
       "      <td>151.749317</td>\n",
       "      <td>149.602440</td>\n",
       "      <td>150.171612</td>\n",
       "      <td>54511534</td>\n",
       "      <td>0.00</td>\n",
       "      <td>1.0</td>\n",
       "    </tr>\n",
       "    <tr>\n",
       "      <th>1253</th>\n",
       "      <td>AAPL</td>\n",
       "      <td>2021-11-04 00:00:00+00:00</td>\n",
       "      <td>150.96</td>\n",
       "      <td>152.430</td>\n",
       "      <td>150.6400</td>\n",
       "      <td>151.580</td>\n",
       "      <td>60394616</td>\n",
       "      <td>150.740784</td>\n",
       "      <td>152.208650</td>\n",
       "      <td>150.421249</td>\n",
       "      <td>151.359884</td>\n",
       "      <td>60394616</td>\n",
       "      <td>0.00</td>\n",
       "      <td>1.0</td>\n",
       "    </tr>\n",
       "    <tr>\n",
       "      <th>1254</th>\n",
       "      <td>AAPL</td>\n",
       "      <td>2021-11-05 00:00:00+00:00</td>\n",
       "      <td>151.28</td>\n",
       "      <td>152.200</td>\n",
       "      <td>150.0600</td>\n",
       "      <td>151.890</td>\n",
       "      <td>65463883</td>\n",
       "      <td>151.280000</td>\n",
       "      <td>152.200000</td>\n",
       "      <td>150.060000</td>\n",
       "      <td>151.890000</td>\n",
       "      <td>65463883</td>\n",
       "      <td>0.22</td>\n",
       "      <td>1.0</td>\n",
       "    </tr>\n",
       "    <tr>\n",
       "      <th>1255</th>\n",
       "      <td>AAPL</td>\n",
       "      <td>2021-11-08 00:00:00+00:00</td>\n",
       "      <td>150.44</td>\n",
       "      <td>151.570</td>\n",
       "      <td>150.1600</td>\n",
       "      <td>151.410</td>\n",
       "      <td>55020868</td>\n",
       "      <td>150.440000</td>\n",
       "      <td>151.570000</td>\n",
       "      <td>150.160000</td>\n",
       "      <td>151.410000</td>\n",
       "      <td>55020868</td>\n",
       "      <td>0.00</td>\n",
       "      <td>1.0</td>\n",
       "    </tr>\n",
       "    <tr>\n",
       "      <th>1256</th>\n",
       "      <td>AAPL</td>\n",
       "      <td>2021-11-09 00:00:00+00:00</td>\n",
       "      <td>150.81</td>\n",
       "      <td>151.428</td>\n",
       "      <td>150.0601</td>\n",
       "      <td>150.200</td>\n",
       "      <td>56573449</td>\n",
       "      <td>150.810000</td>\n",
       "      <td>151.428000</td>\n",
       "      <td>150.060100</td>\n",
       "      <td>150.200000</td>\n",
       "      <td>56573449</td>\n",
       "      <td>0.00</td>\n",
       "      <td>1.0</td>\n",
       "    </tr>\n",
       "  </tbody>\n",
       "</table>\n",
       "</div>"
      ],
      "text/plain": [
       "     symbol                       date   close     high       low     open  \\\n",
       "1247   AAPL  2021-10-27 00:00:00+00:00  148.85  149.730  148.4900  149.360   \n",
       "1248   AAPL  2021-10-28 00:00:00+00:00  152.57  153.165  149.7200  149.820   \n",
       "1249   AAPL  2021-10-29 00:00:00+00:00  149.80  149.940  146.4128  147.215   \n",
       "1250   AAPL  2021-11-01 00:00:00+00:00  148.96  149.700  147.8000  148.985   \n",
       "1251   AAPL  2021-11-02 00:00:00+00:00  150.02  151.570  148.6500  148.660   \n",
       "1252   AAPL  2021-11-03 00:00:00+00:00  151.49  151.970  149.8200  150.390   \n",
       "1253   AAPL  2021-11-04 00:00:00+00:00  150.96  152.430  150.6400  151.580   \n",
       "1254   AAPL  2021-11-05 00:00:00+00:00  151.28  152.200  150.0600  151.890   \n",
       "1255   AAPL  2021-11-08 00:00:00+00:00  150.44  151.570  150.1600  151.410   \n",
       "1256   AAPL  2021-11-09 00:00:00+00:00  150.81  151.428  150.0601  150.200   \n",
       "\n",
       "         volume    adjClose     adjHigh      adjLow     adjOpen  adjVolume  \\\n",
       "1247   56094929  148.633848  149.512570  148.274371  149.143108   56094929   \n",
       "1248  100077888  152.348446  152.942582  149.502585  149.602440  100077888   \n",
       "1249  124953168  149.582469  149.722265  146.200187  147.001222  124953168   \n",
       "1250   73396551  148.743688  149.482614  147.585373  148.768652   73396551   \n",
       "1251   68922374  149.802149  151.349898  148.434139  148.444124   68922374   \n",
       "1252   54511534  151.270015  151.749317  149.602440  150.171612   54511534   \n",
       "1253   60394616  150.740784  152.208650  150.421249  151.359884   60394616   \n",
       "1254   65463883  151.280000  152.200000  150.060000  151.890000   65463883   \n",
       "1255   55020868  150.440000  151.570000  150.160000  151.410000   55020868   \n",
       "1256   56573449  150.810000  151.428000  150.060100  150.200000   56573449   \n",
       "\n",
       "      divCash  splitFactor  \n",
       "1247     0.00          1.0  \n",
       "1248     0.00          1.0  \n",
       "1249     0.00          1.0  \n",
       "1250     0.00          1.0  \n",
       "1251     0.00          1.0  \n",
       "1252     0.00          1.0  \n",
       "1253     0.00          1.0  \n",
       "1254     0.22          1.0  \n",
       "1255     0.00          1.0  \n",
       "1256     0.00          1.0  "
      ]
     },
     "execution_count": 200,
     "metadata": {},
     "output_type": "execute_result"
    }
   ],
   "source": [
    "df.tail(10)"
   ]
  },
  {
   "cell_type": "code",
   "execution_count": 201,
   "id": "4efd1f01",
   "metadata": {},
   "outputs": [
    {
     "data": {
      "text/plain": [
       "(1257, 14)"
      ]
     },
     "execution_count": 201,
     "metadata": {},
     "output_type": "execute_result"
    }
   ],
   "source": [
    "df.shape"
   ]
  },
  {
   "cell_type": "code",
   "execution_count": 202,
   "id": "daf33426",
   "metadata": {},
   "outputs": [],
   "source": [
    "df1=df.reset_index().close"
   ]
  },
  {
   "cell_type": "code",
   "execution_count": 203,
   "id": "a7e476a5",
   "metadata": {},
   "outputs": [
    {
     "data": {
      "text/plain": [
       "0       108.43\n",
       "1       105.71\n",
       "2       107.11\n",
       "3       109.99\n",
       "4       109.95\n",
       "         ...  \n",
       "1252    151.49\n",
       "1253    150.96\n",
       "1254    151.28\n",
       "1255    150.44\n",
       "1256    150.81\n",
       "Name: close, Length: 1257, dtype: float64"
      ]
     },
     "execution_count": 203,
     "metadata": {},
     "output_type": "execute_result"
    }
   ],
   "source": [
    "df1"
   ]
  },
  {
   "cell_type": "code",
   "execution_count": 204,
   "id": "3ccc3969",
   "metadata": {},
   "outputs": [
    {
     "data": {
      "text/plain": [
       "<AxesSubplot:>"
      ]
     },
     "execution_count": 204,
     "metadata": {},
     "output_type": "execute_result"
    },
    {
     "data": {
      "image/png": "[encoded data removed]",
      "text/plain": [
       "<Figure size 648x648 with 1 Axes>"
      ]
     },
     "metadata": {},
     "output_type": "display_data"
    }
   ],
   "source": [
    "plt.figure(figsize=(9,9))\n",
    "df1.plot(color='green')"
   ]
  },
  {
   "cell_type": "code",
   "execution_count": 205,
   "id": "ddd5d540",
   "metadata": {},
   "outputs": [],
   "source": [
    "import numpy as np"
   ]
  },
  {
   "cell_type": "code",
   "execution_count": 206,
   "id": "85915714",
   "metadata": {},
   "outputs": [],
   "source": [
    "from sklearn.preprocessing import MinMaxScaler\n",
    "scale=MinMaxScaler(feature_range=(0,1))\n",
    "df1=scale.fit_transform(np.array(df1).reshape(-1,1))#here we need to give an array with 2d shape so reshapping it"
   ]
  },
  {
   "cell_type": "code",
   "execution_count": 207,
   "id": "fa3614ef",
   "metadata": {},
   "outputs": [
    {
     "data": {
      "text/plain": [
       "(1257, 1)"
      ]
     },
     "execution_count": 207,
     "metadata": {},
     "output_type": "execute_result"
    }
   ],
   "source": [
    "df1.shape"
   ]
  },
  {
   "cell_type": "code",
   "execution_count": 208,
   "id": "4bd0dd06",
   "metadata": {},
   "outputs": [],
   "source": [
    "##We now need to split into train,test but we cant use the train-test as it is because any split will randomize the values which makes it completely useless for the model\n",
    "train_len=int(len(df1)*0.65)\n",
    "train_data=df1[:train_len,:]\n",
    "test_data=df1[train_len:,:]"
   ]
  },
  {
   "cell_type": "code",
   "execution_count": 209,
   "id": "a2e26a2c",
   "metadata": {},
   "outputs": [],
   "source": [
    "def create_dataset(dataset,timestep=1):\n",
    "    x_data,y_data=[],[]\n",
    "    for i in range(len(dataset)-timestep-1):\n",
    "        a=dataset[i:(i+timestep),0]#here we will be slicing from dataset say we have 0th iteration and timestep=100 ...from 0 to (dataset.len-99) we will take values and append it\n",
    "        x_data.append(a)\n",
    "        #next we will take the timestamp+1 value as y value or y_train value\n",
    "        y_data.append(dataset[i+timestep,0])\n",
    "    return np.array(x_data),np.array(y_data)"
   ]
  },
  {
   "cell_type": "code",
   "execution_count": 210,
   "id": "8254ff79",
   "metadata": {},
   "outputs": [],
   "source": [
    "x_train,y_train=create_dataset(train_data,100)\n",
    "x_test,y_test=create_dataset(test_data,100)"
   ]
  },
  {
   "cell_type": "code",
   "execution_count": 211,
   "id": "47b70cca",
   "metadata": {},
   "outputs": [],
   "source": [
    "x_train=x_train.reshape(x_train.shape[0],x_train.shape[1],1)#here we can use 716,100,1 but we need generalized model\n",
    "x_test=x_test.reshape(x_test.shape[0],x_test.shape[1],1)"
   ]
  },
  {
   "cell_type": "code",
   "execution_count": 212,
   "id": "c48c707c",
   "metadata": {},
   "outputs": [
    {
     "data": {
      "text/plain": [
       "(716, 100, 1)"
      ]
     },
     "execution_count": 212,
     "metadata": {},
     "output_type": "execute_result"
    }
   ],
   "source": [
    "x_train.shape"
   ]
  },
  {
   "cell_type": "code",
   "execution_count": 213,
   "id": "6eaf8f3f",
   "metadata": {},
   "outputs": [],
   "source": [
    "from tensorflow import keras\n",
    "from keras.models import Sequential\n",
    "from keras.layers import Dense,Dropout,LSTM"
   ]
  },
  {
   "cell_type": "code",
   "execution_count": 214,
   "id": "34935190",
   "metadata": {},
   "outputs": [
    {
     "name": "stdout",
     "output_type": "stream",
     "text": [
      "Model: \"sequential_1\"\n",
      "_________________________________________________________________\n",
      "Layer (type)                 Output Shape              Param #   \n",
      "=================================================================\n",
      "lstm_3 (LSTM)                (None, 100, 50)           10400     \n",
      "_________________________________________________________________\n",
      "lstm_4 (LSTM)                (None, 100, 50)           20200     \n",
      "_________________________________________________________________\n",
      "lstm_5 (LSTM)                (None, 50)                20200     \n",
      "_________________________________________________________________\n",
      "dense_1 (Dense)              (None, 1)                 51        \n",
      "=================================================================\n",
      "Total params: 50,851\n",
      "Trainable params: 50,851\n",
      "Non-trainable params: 0\n",
      "_________________________________________________________________\n"
     ]
    }
   ],
   "source": [
    "model=Sequential()\n",
    "model.add(LSTM(50,return_sequences=True,input_shape=(100,1)))\n",
    "model.add(LSTM(50,return_sequences=True))\n",
    "model.add(LSTM(50))\n",
    "model.add(Dense(1))\n",
    "model.compile(loss='mean_squared_error',optimizer='adam',metrics=['mean_squared_error'])\n",
    "model.summary()"
   ]
  },
  {
   "cell_type": "code",
   "execution_count": 23,
   "id": "8afa21c8",
   "metadata": {
    "scrolled": true
   },
   "outputs": [
    {
     "name": "stdout",
     "output_type": "stream",
     "text": [
      "Epoch 1/100\n",
      "12/12 [==============================] - 7s 245ms/step - loss: 0.0157 - mean_squared_error: 0.0157 - val_loss: 0.0274 - val_mean_squared_error: 0.0274\n",
      "Epoch 2/100\n",
      "12/12 [==============================] - 2s 136ms/step - loss: 0.0037 - mean_squared_error: 0.0037 - val_loss: 0.0262 - val_mean_squared_error: 0.0262\n",
      "Epoch 3/100\n",
      "12/12 [==============================] - 2s 128ms/step - loss: 0.0017 - mean_squared_error: 0.0017 - val_loss: 0.0231 - val_mean_squared_error: 0.0231\n",
      "Epoch 4/100\n",
      "12/12 [==============================] - 2s 130ms/step - loss: 6.9844e-04 - mean_squared_error: 6.9844e-04 - val_loss: 0.0299 - val_mean_squared_error: 0.0299\n",
      "Epoch 5/100\n",
      "12/12 [==============================] - 2s 129ms/step - loss: 5.7850e-04 - mean_squared_error: 5.7850e-04 - val_loss: 0.0289 - val_mean_squared_error: 0.0289\n",
      "Epoch 6/100\n",
      "12/12 [==============================] - 2s 132ms/step - loss: 5.3496e-04 - mean_squared_error: 5.3496e-04 - val_loss: 0.0265 - val_mean_squared_error: 0.0265\n",
      "Epoch 7/100\n",
      "12/12 [==============================] - 2s 130ms/step - loss: 5.2199e-04 - mean_squared_error: 5.2199e-04 - val_loss: 0.0256 - val_mean_squared_error: 0.0256\n",
      "Epoch 8/100\n",
      "12/12 [==============================] - 2s 126ms/step - loss: 4.9807e-04 - mean_squared_error: 4.9807e-04 - val_loss: 0.0264 - val_mean_squared_error: 0.0264\n",
      "Epoch 9/100\n",
      "12/12 [==============================] - 2s 141ms/step - loss: 4.7791e-04 - mean_squared_error: 4.7791e-04 - val_loss: 0.0261 - val_mean_squared_error: 0.0261\n",
      "Epoch 10/100\n",
      "12/12 [==============================] - 2s 138ms/step - loss: 4.8435e-04 - mean_squared_error: 4.8435e-04 - val_loss: 0.0261 - val_mean_squared_error: 0.0261\n",
      "Epoch 11/100\n",
      "12/12 [==============================] - 2s 130ms/step - loss: 4.5964e-04 - mean_squared_error: 4.5964e-04 - val_loss: 0.0245 - val_mean_squared_error: 0.0245\n",
      "Epoch 12/100\n",
      "12/12 [==============================] - 1s 126ms/step - loss: 4.3849e-04 - mean_squared_error: 4.3849e-04 - val_loss: 0.0251 - val_mean_squared_error: 0.0251\n",
      "Epoch 13/100\n",
      "12/12 [==============================] - 2s 128ms/step - loss: 4.3187e-04 - mean_squared_error: 4.3187e-04 - val_loss: 0.0237 - val_mean_squared_error: 0.0237\n",
      "Epoch 14/100\n",
      "12/12 [==============================] - 2s 128ms/step - loss: 4.1728e-04 - mean_squared_error: 4.1728e-04 - val_loss: 0.0232 - val_mean_squared_error: 0.0232\n",
      "Epoch 15/100\n",
      "12/12 [==============================] - 2s 130ms/step - loss: 4.0613e-04 - mean_squared_error: 4.0613e-04 - val_loss: 0.0238 - val_mean_squared_error: 0.0238\n",
      "Epoch 16/100\n",
      "12/12 [==============================] - 1s 124ms/step - loss: 3.9795e-04 - mean_squared_error: 3.9795e-04 - val_loss: 0.0221 - val_mean_squared_error: 0.0221\n",
      "Epoch 17/100\n",
      "12/12 [==============================] - 1s 123ms/step - loss: 3.8955e-04 - mean_squared_error: 3.8955e-04 - val_loss: 0.0189 - val_mean_squared_error: 0.0189\n",
      "Epoch 18/100\n",
      "12/12 [==============================] - 2s 127ms/step - loss: 4.0333e-04 - mean_squared_error: 4.0333e-04 - val_loss: 0.0224 - val_mean_squared_error: 0.0224\n",
      "Epoch 19/100\n",
      "12/12 [==============================] - 1s 122ms/step - loss: 4.1001e-04 - mean_squared_error: 4.1001e-04 - val_loss: 0.0184 - val_mean_squared_error: 0.0184\n",
      "Epoch 20/100\n",
      "12/12 [==============================] - 1s 125ms/step - loss: 3.9732e-04 - mean_squared_error: 3.9732e-04 - val_loss: 0.0188 - val_mean_squared_error: 0.0188\n",
      "Epoch 21/100\n",
      "12/12 [==============================] - 2s 130ms/step - loss: 3.6598e-04 - mean_squared_error: 3.6598e-04 - val_loss: 0.0187 - val_mean_squared_error: 0.0187\n",
      "Epoch 22/100\n",
      "12/12 [==============================] - 1s 122ms/step - loss: 3.3623e-04 - mean_squared_error: 3.3623e-04 - val_loss: 0.0173 - val_mean_squared_error: 0.0173\n",
      "Epoch 23/100\n",
      "12/12 [==============================] - 2s 133ms/step - loss: 3.5091e-04 - mean_squared_error: 3.5091e-04 - val_loss: 0.0182 - val_mean_squared_error: 0.0182\n",
      "Epoch 24/100\n",
      "12/12 [==============================] - 1s 125ms/step - loss: 3.7368e-04 - mean_squared_error: 3.7368e-04 - val_loss: 0.0170 - val_mean_squared_error: 0.0170\n",
      "Epoch 25/100\n",
      "12/12 [==============================] - 2s 128ms/step - loss: 3.1708e-04 - mean_squared_error: 3.1708e-04 - val_loss: 0.0187 - val_mean_squared_error: 0.0187\n",
      "Epoch 26/100\n",
      "12/12 [==============================] - 1s 124ms/step - loss: 3.2651e-04 - mean_squared_error: 3.2651e-04 - val_loss: 0.0150 - val_mean_squared_error: 0.0150\n",
      "Epoch 27/100\n",
      "12/12 [==============================] - 2s 126ms/step - loss: 3.3149e-04 - mean_squared_error: 3.3149e-04 - val_loss: 0.0167 - val_mean_squared_error: 0.0167\n",
      "Epoch 28/100\n",
      "12/12 [==============================] - 1s 125ms/step - loss: 3.1367e-04 - mean_squared_error: 3.1367e-04 - val_loss: 0.0182 - val_mean_squared_error: 0.0182\n",
      "Epoch 29/100\n",
      "12/12 [==============================] - 1s 124ms/step - loss: 3.2663e-04 - mean_squared_error: 3.2663e-04 - val_loss: 0.0157 - val_mean_squared_error: 0.0157\n",
      "Epoch 30/100\n",
      "12/12 [==============================] - 2s 126ms/step - loss: 3.0700e-04 - mean_squared_error: 3.0700e-04 - val_loss: 0.0146 - val_mean_squared_error: 0.0146\n",
      "Epoch 31/100\n",
      "12/12 [==============================] - 1s 124ms/step - loss: 3.0757e-04 - mean_squared_error: 3.0757e-04 - val_loss: 0.0167 - val_mean_squared_error: 0.0167\n",
      "Epoch 32/100\n",
      "12/12 [==============================] - 2s 127ms/step - loss: 2.9736e-04 - mean_squared_error: 2.9736e-04 - val_loss: 0.0166 - val_mean_squared_error: 0.0166\n",
      "Epoch 33/100\n",
      "12/12 [==============================] - 2s 129ms/step - loss: 2.9856e-04 - mean_squared_error: 2.9856e-04 - val_loss: 0.0149 - val_mean_squared_error: 0.0149\n",
      "Epoch 34/100\n",
      "12/12 [==============================] - 1s 122ms/step - loss: 2.8920e-04 - mean_squared_error: 2.8920e-04 - val_loss: 0.0161 - val_mean_squared_error: 0.0161\n",
      "Epoch 35/100\n",
      "12/12 [==============================] - 2s 129ms/step - loss: 2.8371e-04 - mean_squared_error: 2.8371e-04 - val_loss: 0.0155 - val_mean_squared_error: 0.0155\n",
      "Epoch 36/100\n",
      "12/12 [==============================] - 2s 129ms/step - loss: 2.8054e-04 - mean_squared_error: 2.8054e-04 - val_loss: 0.0152 - val_mean_squared_error: 0.0152\n",
      "Epoch 37/100\n",
      "12/12 [==============================] - 1s 121ms/step - loss: 2.6604e-04 - mean_squared_error: 2.6604e-04 - val_loss: 0.0142 - val_mean_squared_error: 0.0142\n",
      "Epoch 38/100\n",
      "12/12 [==============================] - 2s 126ms/step - loss: 3.1134e-04 - mean_squared_error: 3.1134e-04 - val_loss: 0.0147 - val_mean_squared_error: 0.0147\n",
      "Epoch 39/100\n",
      "12/12 [==============================] - 1s 122ms/step - loss: 2.5802e-04 - mean_squared_error: 2.5802e-04 - val_loss: 0.0139 - val_mean_squared_error: 0.0139\n",
      "Epoch 40/100\n",
      "12/12 [==============================] - 1s 125ms/step - loss: 2.6257e-04 - mean_squared_error: 2.6257e-04 - val_loss: 0.0156 - val_mean_squared_error: 0.0156\n",
      "Epoch 41/100\n",
      "12/12 [==============================] - 2s 128ms/step - loss: 3.2848e-04 - mean_squared_error: 3.2848e-04 - val_loss: 0.0138 - val_mean_squared_error: 0.0138\n",
      "Epoch 42/100\n",
      "12/12 [==============================] - 1s 124ms/step - loss: 2.8908e-04 - mean_squared_error: 2.8908e-04 - val_loss: 0.0141 - val_mean_squared_error: 0.0141\n",
      "Epoch 43/100\n",
      "12/12 [==============================] - 2s 127ms/step - loss: 2.7499e-04 - mean_squared_error: 2.7499e-04 - val_loss: 0.0129 - val_mean_squared_error: 0.0129\n",
      "Epoch 44/100\n",
      "12/12 [==============================] - 2s 129ms/step - loss: 3.0089e-04 - mean_squared_error: 3.0089e-04 - val_loss: 0.0135 - val_mean_squared_error: 0.0135\n",
      "Epoch 45/100\n",
      "12/12 [==============================] - 2s 128ms/step - loss: 2.5418e-04 - mean_squared_error: 2.5418e-04 - val_loss: 0.0152 - val_mean_squared_error: 0.0152\n",
      "Epoch 46/100\n",
      "12/12 [==============================] - 1s 124ms/step - loss: 2.9247e-04 - mean_squared_error: 2.9247e-04 - val_loss: 0.0112 - val_mean_squared_error: 0.0112\n",
      "Epoch 47/100\n",
      "12/12 [==============================] - 1s 124ms/step - loss: 2.7628e-04 - mean_squared_error: 2.7628e-04 - val_loss: 0.0157 - val_mean_squared_error: 0.0157\n",
      "Epoch 48/100\n",
      "12/12 [==============================] - 2s 127ms/step - loss: 3.8484e-04 - mean_squared_error: 3.8484e-04 - val_loss: 0.0116 - val_mean_squared_error: 0.0116\n"
     ]
    },
    {
     "name": "stdout",
     "output_type": "stream",
     "text": [
      "Epoch 49/100\n",
      "12/12 [==============================] - 2s 128ms/step - loss: 3.4157e-04 - mean_squared_error: 3.4157e-04 - val_loss: 0.0129 - val_mean_squared_error: 0.0129\n",
      "Epoch 50/100\n",
      "12/12 [==============================] - 2s 129ms/step - loss: 2.8599e-04 - mean_squared_error: 2.8599e-04 - val_loss: 0.0129 - val_mean_squared_error: 0.0129\n",
      "Epoch 51/100\n",
      "12/12 [==============================] - 2s 128ms/step - loss: 2.6287e-04 - mean_squared_error: 2.6287e-04 - val_loss: 0.0121 - val_mean_squared_error: 0.0121\n",
      "Epoch 52/100\n",
      "12/12 [==============================] - 1s 124ms/step - loss: 2.4376e-04 - mean_squared_error: 2.4376e-04 - val_loss: 0.0114 - val_mean_squared_error: 0.0114\n",
      "Epoch 53/100\n",
      "12/12 [==============================] - 2s 127ms/step - loss: 2.5646e-04 - mean_squared_error: 2.5646e-04 - val_loss: 0.0126 - val_mean_squared_error: 0.0126\n",
      "Epoch 54/100\n",
      "12/12 [==============================] - 2s 128ms/step - loss: 2.3557e-04 - mean_squared_error: 2.3557e-04 - val_loss: 0.0116 - val_mean_squared_error: 0.0116\n",
      "Epoch 55/100\n",
      "12/12 [==============================] - 2s 126ms/step - loss: 2.4315e-04 - mean_squared_error: 2.4315e-04 - val_loss: 0.0127 - val_mean_squared_error: 0.0127\n",
      "Epoch 56/100\n",
      "12/12 [==============================] - 1s 123ms/step - loss: 2.3011e-04 - mean_squared_error: 2.3011e-04 - val_loss: 0.0115 - val_mean_squared_error: 0.0115\n",
      "Epoch 57/100\n",
      "12/12 [==============================] - 2s 126ms/step - loss: 2.3467e-04 - mean_squared_error: 2.3467e-04 - val_loss: 0.0134 - val_mean_squared_error: 0.0134\n",
      "Epoch 58/100\n",
      "12/12 [==============================] - 2s 126ms/step - loss: 2.5892e-04 - mean_squared_error: 2.5892e-04 - val_loss: 0.0115 - val_mean_squared_error: 0.0115\n",
      "Epoch 59/100\n",
      "12/12 [==============================] - 1s 124ms/step - loss: 2.3814e-04 - mean_squared_error: 2.3814e-04 - val_loss: 0.0116 - val_mean_squared_error: 0.0116\n",
      "Epoch 60/100\n",
      "12/12 [==============================] - 1s 124ms/step - loss: 2.2555e-04 - mean_squared_error: 2.2555e-04 - val_loss: 0.0109 - val_mean_squared_error: 0.0109\n",
      "Epoch 61/100\n",
      "12/12 [==============================] - 2s 126ms/step - loss: 2.2947e-04 - mean_squared_error: 2.2947e-04 - val_loss: 0.0124 - val_mean_squared_error: 0.0124\n",
      "Epoch 62/100\n",
      "12/12 [==============================] - 1s 123ms/step - loss: 2.2184e-04 - mean_squared_error: 2.2184e-04 - val_loss: 0.0105 - val_mean_squared_error: 0.0105\n",
      "Epoch 63/100\n",
      "12/12 [==============================] - 2s 126ms/step - loss: 2.3097e-04 - mean_squared_error: 2.3097e-04 - val_loss: 0.0109 - val_mean_squared_error: 0.0109\n",
      "Epoch 64/100\n",
      "12/12 [==============================] - 2s 131ms/step - loss: 2.2758e-04 - mean_squared_error: 2.2758e-04 - val_loss: 0.0115 - val_mean_squared_error: 0.0115\n",
      "Epoch 65/100\n",
      "12/12 [==============================] - 2s 126ms/step - loss: 2.4081e-04 - mean_squared_error: 2.4081e-04 - val_loss: 0.0097 - val_mean_squared_error: 0.0097\n",
      "Epoch 66/100\n",
      "12/12 [==============================] - 1s 122ms/step - loss: 2.6369e-04 - mean_squared_error: 2.6369e-04 - val_loss: 0.0106 - val_mean_squared_error: 0.0106\n",
      "Epoch 67/100\n",
      "12/12 [==============================] - 2s 126ms/step - loss: 2.1962e-04 - mean_squared_error: 2.1962e-04 - val_loss: 0.0113 - val_mean_squared_error: 0.0113\n",
      "Epoch 68/100\n",
      "12/12 [==============================] - 1s 124ms/step - loss: 2.6924e-04 - mean_squared_error: 2.6924e-04 - val_loss: 0.0099 - val_mean_squared_error: 0.0099\n",
      "Epoch 69/100\n",
      "12/12 [==============================] - 1s 125ms/step - loss: 2.1704e-04 - mean_squared_error: 2.1704e-04 - val_loss: 0.0100 - val_mean_squared_error: 0.0100\n",
      "Epoch 70/100\n",
      "12/12 [==============================] - 1s 123ms/step - loss: 2.2623e-04 - mean_squared_error: 2.2623e-04 - val_loss: 0.0099 - val_mean_squared_error: 0.0099\n",
      "Epoch 71/100\n",
      "12/12 [==============================] - 1s 123ms/step - loss: 2.0406e-04 - mean_squared_error: 2.0406e-04 - val_loss: 0.0098 - val_mean_squared_error: 0.0098\n",
      "Epoch 72/100\n",
      "12/12 [==============================] - 1s 123ms/step - loss: 2.1563e-04 - mean_squared_error: 2.1563e-04 - val_loss: 0.0109 - val_mean_squared_error: 0.0109\n",
      "Epoch 73/100\n",
      "12/12 [==============================] - 2s 127ms/step - loss: 2.2199e-04 - mean_squared_error: 2.2199e-04 - val_loss: 0.0090 - val_mean_squared_error: 0.0090\n",
      "Epoch 74/100\n",
      "12/12 [==============================] - 2s 129ms/step - loss: 2.1919e-04 - mean_squared_error: 2.1919e-04 - val_loss: 0.0104 - val_mean_squared_error: 0.0104\n",
      "Epoch 75/100\n",
      "12/12 [==============================] - 2s 128ms/step - loss: 2.5072e-04 - mean_squared_error: 2.5072e-04 - val_loss: 0.0102 - val_mean_squared_error: 0.0102\n",
      "Epoch 76/100\n",
      "12/12 [==============================] - 1s 123ms/step - loss: 2.0449e-04 - mean_squared_error: 2.0449e-04 - val_loss: 0.0094 - val_mean_squared_error: 0.0094\n",
      "Epoch 77/100\n",
      "12/12 [==============================] - 1s 125ms/step - loss: 2.0434e-04 - mean_squared_error: 2.0434e-04 - val_loss: 0.0098 - val_mean_squared_error: 0.0098\n",
      "Epoch 78/100\n",
      "12/12 [==============================] - 1s 123ms/step - loss: 1.9166e-04 - mean_squared_error: 1.9166e-04 - val_loss: 0.0091 - val_mean_squared_error: 0.0091\n",
      "Epoch 79/100\n",
      "12/12 [==============================] - 1s 124ms/step - loss: 2.2482e-04 - mean_squared_error: 2.2482e-04 - val_loss: 0.0093 - val_mean_squared_error: 0.0093\n",
      "Epoch 80/100\n",
      "12/12 [==============================] - 1s 124ms/step - loss: 2.2360e-04 - mean_squared_error: 2.2360e-04 - val_loss: 0.0098 - val_mean_squared_error: 0.0098\n",
      "Epoch 81/100\n",
      "12/12 [==============================] - 1s 122ms/step - loss: 2.0135e-04 - mean_squared_error: 2.0135e-04 - val_loss: 0.0089 - val_mean_squared_error: 0.0089\n",
      "Epoch 82/100\n",
      "12/12 [==============================] - 1s 123ms/step - loss: 1.8896e-04 - mean_squared_error: 1.8896e-04 - val_loss: 0.0093 - val_mean_squared_error: 0.0093\n",
      "Epoch 83/100\n",
      "12/12 [==============================] - 1s 124ms/step - loss: 1.9600e-04 - mean_squared_error: 1.9600e-04 - val_loss: 0.0091 - val_mean_squared_error: 0.0091\n",
      "Epoch 84/100\n",
      "12/12 [==============================] - 1s 123ms/step - loss: 1.8623e-04 - mean_squared_error: 1.8623e-04 - val_loss: 0.0097 - val_mean_squared_error: 0.0097\n",
      "Epoch 85/100\n",
      "12/12 [==============================] - 1s 124ms/step - loss: 2.1696e-04 - mean_squared_error: 2.1696e-04 - val_loss: 0.0086 - val_mean_squared_error: 0.0086\n",
      "Epoch 86/100\n",
      "12/12 [==============================] - 1s 126ms/step - loss: 1.8992e-04 - mean_squared_error: 1.8992e-04 - val_loss: 0.0091 - val_mean_squared_error: 0.0091\n",
      "Epoch 87/100\n",
      "12/12 [==============================] - 2s 126ms/step - loss: 1.8055e-04 - mean_squared_error: 1.8055e-04 - val_loss: 0.0088 - val_mean_squared_error: 0.0088\n",
      "Epoch 88/100\n",
      "12/12 [==============================] - 1s 125ms/step - loss: 1.7827e-04 - mean_squared_error: 1.7827e-04 - val_loss: 0.0083 - val_mean_squared_error: 0.0083\n",
      "Epoch 89/100\n",
      "12/12 [==============================] - 2s 165ms/step - loss: 2.0864e-04 - mean_squared_error: 2.0864e-04 - val_loss: 0.0088 - val_mean_squared_error: 0.0088\n",
      "Epoch 90/100\n",
      "12/12 [==============================] - 2s 147ms/step - loss: 1.7987e-04 - mean_squared_error: 1.7987e-04 - val_loss: 0.0086 - val_mean_squared_error: 0.0086\n",
      "Epoch 91/100\n",
      "12/12 [==============================] - 2s 132ms/step - loss: 1.8042e-04 - mean_squared_error: 1.8042e-04 - val_loss: 0.0086 - val_mean_squared_error: 0.0086\n",
      "Epoch 92/100\n",
      "12/12 [==============================] - 2s 130ms/step - loss: 1.7518e-04 - mean_squared_error: 1.7518e-04 - val_loss: 0.0081 - val_mean_squared_error: 0.0081\n",
      "Epoch 93/100\n",
      "12/12 [==============================] - 2s 128ms/step - loss: 1.7258e-04 - mean_squared_error: 1.7258e-04 - val_loss: 0.0081 - val_mean_squared_error: 0.0081\n",
      "Epoch 94/100\n",
      "12/12 [==============================] - 2s 156ms/step - loss: 1.7789e-04 - mean_squared_error: 1.7789e-04 - val_loss: 0.0083 - val_mean_squared_error: 0.0083\n",
      "Epoch 95/100\n",
      "12/12 [==============================] - 2s 149ms/step - loss: 1.8890e-04 - mean_squared_error: 1.8890e-04 - val_loss: 0.0088 - val_mean_squared_error: 0.0088\n",
      "Epoch 96/100\n"
     ]
    },
    {
     "name": "stdout",
     "output_type": "stream",
     "text": [
      "12/12 [==============================] - 2s 174ms/step - loss: 1.7879e-04 - mean_squared_error: 1.7879e-04 - val_loss: 0.0078 - val_mean_squared_error: 0.0078\n",
      "Epoch 97/100\n",
      "12/12 [==============================] - 2s 155ms/step - loss: 1.8461e-04 - mean_squared_error: 1.8461e-04 - val_loss: 0.0083 - val_mean_squared_error: 0.0083\n",
      "Epoch 98/100\n",
      "12/12 [==============================] - 2s 154ms/step - loss: 1.8828e-04 - mean_squared_error: 1.8828e-04 - val_loss: 0.0072 - val_mean_squared_error: 0.0072\n",
      "Epoch 99/100\n",
      "12/12 [==============================] - 2s 162ms/step - loss: 1.8658e-04 - mean_squared_error: 1.8658e-04 - val_loss: 0.0083 - val_mean_squared_error: 0.0083\n",
      "Epoch 100/100\n",
      "12/12 [==============================] - 2s 165ms/step - loss: 1.8005e-04 - mean_squared_error: 1.8005e-04 - val_loss: 0.0077 - val_mean_squared_error: 0.0077\n"
     ]
    }
   ],
   "source": [
    "history=model.fit(x_train,y_train,epochs=100,batch_size=64,verbose=1,validation_data=(x_test,y_test))"
   ]
  },
  {
   "cell_type": "code",
   "execution_count": 24,
   "id": "6f96f0b1",
   "metadata": {},
   "outputs": [
    {
     "data": {
      "text/plain": [
       "[<matplotlib.lines.Line2D at 0x2ad872a11f0>]"
      ]
     },
     "execution_count": 24,
     "metadata": {},
     "output_type": "execute_result"
    },
    {
     "data": {
      "image/png": "[encoded data removed]",
      "text/plain": [
       "<Figure size 720x576 with 1 Axes>"
      ]
     },
     "metadata": {},
     "output_type": "display_data"
    }
   ],
   "source": [
    "import matplotlib.pyplot as plt\n",
    "import seaborn as sb\n",
    "sb.set()\n",
    "sb.set_style('dark')\n",
    "plt.figure(figsize=(10,8))\n",
    "ax=plt.axes()\n",
    "ax.set_facecolor('black')\n",
    "plt.plot(history.history['mean_squared_error'],color='cyan')"
   ]
  },
  {
   "cell_type": "code",
   "execution_count": 25,
   "id": "4ba7d161",
   "metadata": {},
   "outputs": [],
   "source": [
    "y_pred=model.predict(x_test)"
   ]
  },
  {
   "cell_type": "code",
   "execution_count": 26,
   "id": "4000192b",
   "metadata": {
    "scrolled": false
   },
   "outputs": [
    {
     "data": {
      "text/plain": [
       "<matplotlib.legend.Legend at 0x2ad89cc7af0>"
      ]
     },
     "execution_count": 26,
     "metadata": {},
     "output_type": "execute_result"
    },
    {
     "data": {
      "image/png": "[encoded data removed]",
      "text/plain": [
       "<Figure size 1152x576 with 1 Axes>"
      ]
     },
     "metadata": {},
     "output_type": "display_data"
    }
   ],
   "source": [
    "sb.set_style('dark')\n",
    "plt.figure(figsize=(16,8))\n",
    "ax=plt.axes()\n",
    "ax.set_facecolor('black')\n",
    "plt.plot(y_pred,color='purple')\n",
    "plt.plot(y_test,color='green')\n",
    "plt.title('Y-test and Y-pred')\n",
    "plt.legend(['y_pred','y_test'])"
   ]
  },
  {
   "cell_type": "code",
   "execution_count": 27,
   "id": "3a68ac07",
   "metadata": {},
   "outputs": [],
   "source": [
    "y_pred_inverse=scale.inverse_transform(y_pred)"
   ]
  },
  {
   "cell_type": "code",
   "execution_count": 28,
   "id": "ebaebd38",
   "metadata": {},
   "outputs": [],
   "source": [
    "y_test_inverse=scale.inverse_transform(y_test.reshape(-1,1))"
   ]
  },
  {
   "cell_type": "code",
   "execution_count": 29,
   "id": "fe37f4c4",
   "metadata": {},
   "outputs": [],
   "source": [
    "from sklearn.metrics import mean_squared_error,r2_score"
   ]
  },
  {
   "cell_type": "code",
   "execution_count": 30,
   "id": "3251c983",
   "metadata": {},
   "outputs": [
    {
     "data": {
      "text/plain": [
       "0.8643108096891194"
      ]
     },
     "execution_count": 30,
     "metadata": {},
     "output_type": "execute_result"
    }
   ],
   "source": [
    "r2_score(y_test,y_pred)"
   ]
  },
  {
   "cell_type": "code",
   "execution_count": 31,
   "id": "e24a8c31",
   "metadata": {},
   "outputs": [
    {
     "data": {
      "text/plain": [
       "0.007715495176131607"
      ]
     },
     "execution_count": 31,
     "metadata": {},
     "output_type": "execute_result"
    }
   ],
   "source": [
    "mean_squared_error(y_test,y_pred)"
   ]
  },
  {
   "cell_type": "code",
   "execution_count": 32,
   "id": "d10fbb04",
   "metadata": {},
   "outputs": [
    {
     "data": {
      "text/plain": [
       "0.08783789145995939"
      ]
     },
     "execution_count": 32,
     "metadata": {},
     "output_type": "execute_result"
    }
   ],
   "source": [
    "import math\n",
    "math.sqrt(mean_squared_error(y_test,y_pred))"
   ]
  },
  {
   "cell_type": "code",
   "execution_count": 50,
   "id": "8df127fd",
   "metadata": {},
   "outputs": [],
   "source": [
    "test_data_last_100=test_data[340:]"
   ]
  },
  {
   "cell_type": "code",
   "execution_count": 53,
   "id": "16f7dc91",
   "metadata": {},
   "outputs": [
    {
     "data": {
      "text/plain": [
       "array([[0.06641191, 0.07060792, 0.06990859, 0.06918427, 0.06843499,\n",
       "        0.07260602, 0.07647735, 0.07805085, 0.07882512, 0.08554373,\n",
       "        0.09068885, 0.0970578 , 0.09373595, 0.09840651, 0.09688296,\n",
       "        0.09973026, 0.10849693, 0.10682352, 0.10160348, 0.09176283,\n",
       "        0.10100405, 0.09913083, 0.1026275 , 0.10702333, 0.10809731,\n",
       "        0.10255258, 0.09808182, 0.09973026, 0.10027973, 0.09943054,\n",
       "        0.10402618, 0.10300215, 0.10327689, 0.10097907, 0.10085419,\n",
       "        0.09963035, 0.10027973, 0.10784754, 0.10837205, 0.11341725,\n",
       "        0.11109446, 0.10152855, 0.10237774, 0.10609921, 0.1098956 ,\n",
       "        0.10967081, 0.1065238 , 0.10447575, 0.10712323, 0.11841251,\n",
       "        0.11519057, 0.11688896, 0.11973625, 0.12135971, 0.12732904,\n",
       "        0.12338279, 0.12078525, 0.10804736, 0.10949598, 0.10592437,\n",
       "        0.10819721, 0.10759778, 0.10077926, 0.09298666, 0.0942105 ,\n",
       "        0.10025476, 0.10270243, 0.10292722, 0.0990559 , 0.09041411,\n",
       "        0.09271192, 0.08939008, 0.09226235, 0.08349568, 0.088416  ,\n",
       "        0.09063889, 0.09386083, 0.09288676, 0.09266197, 0.08941506,\n",
       "        0.08791648, 0.09503472, 0.09773215, 0.1020031 , 0.10752285,\n",
       "        0.10877167, 0.10932114, 0.10734802, 0.10722314, 0.10892152,\n",
       "        0.10774764, 0.11703881, 0.11012039, 0.10802238, 0.11066986,\n",
       "        0.11434138, 0.11301763, 0.11381687, 0.11171887, 0.11264299]])"
      ]
     },
     "execution_count": 53,
     "metadata": {},
     "output_type": "execute_result"
    }
   ],
   "source": [
    "(test_data_last_100.reshape(1,100))"
   ]
  },
  {
   "cell_type": "code",
   "execution_count": 183,
   "id": "17cbb7c8",
   "metadata": {
    "scrolled": true
   },
   "outputs": [
    {
     "name": "stderr",
     "output_type": "stream",
     "text": [
      "<ipython-input-183-4da7e2584230>:10: VisibleDeprecationWarning: Creating an ndarray from ragged nested sequences (which is a list-or-tuple of lists-or-tuples-or ndarrays with different lengths or shapes) is deprecated. If you meant to do this, you must specify 'dtype=object' when creating the ndarray.\n",
      "  x_input=np.array(temp_input[1:]).astype('float32')\n"
     ]
    },
    {
     "name": "stdout",
     "output_type": "stream",
     "text": [
      "[0.11449109, 0.11468862, 0.11497556, 0.11534558, 0.115779325, 0.11625613, 0.116759196, 0.11727665, 0.117800996, 0.11832754, 0.11885363, 0.11937742, 0.11989759, 0.12041305, 0.12092283, 0.121426165, 0.12192242, 0.12241112, 0.12289207, 0.12336512, 0.12383032, 0.1242878, 0.12473786, 0.12518074, 0.12561682, 0.1260464, 0.12646985, 0.12688744, 0.12729956, 0.12770647]\n"
     ]
    }
   ],
   "source": [
    "#now we will be predicting values for the  next 30 days using the previous values\n",
    "#the concept remains the same use 100 values and predict the next value \n",
    "#then remove or disregard the first value and then use the same technique for the next prediction\n",
    "x_input=test_data_last_100\n",
    "temp_input=list(x_input)\n",
    "lst_output=[]\n",
    "i=0\n",
    "while(i<30):\n",
    "    if(len(temp_input)>100):\n",
    "        x_input=np.array(temp_input[1:]).astype('float32')\n",
    "        x_input=x_input.reshape(1,100,1)\n",
    "        y_temp=model.predict(x_input,verbose=0)\n",
    "        temp_input.append(y_temp[0][0])\n",
    "        temp_input=temp_input[1:]\n",
    "        lst_output.append(y_temp[0][0])\n",
    "        i=i+1\n",
    "    else:\n",
    "        x_input=x_input.reshape(1,100,1)\n",
    "        y_temp=model.predict(x_input,verbose=0)\n",
    "        temp_input.append(y_temp[0][0])\n",
    "        lst_output.append(y_temp[0][0])\n",
    "        i=i+1\n",
    "print(lst_output)"
   ]
  },
  {
   "cell_type": "code",
   "execution_count": 184,
   "id": "88a612d5",
   "metadata": {},
   "outputs": [],
   "source": [
    "pred_values=np.array(lst_output,dtype='object')"
   ]
  },
  {
   "cell_type": "code",
   "execution_count": 185,
   "id": "4a9cfed8",
   "metadata": {},
   "outputs": [],
   "source": [
    "pred_values=scale.inverse_transform(pred_values.reshape(-1,1))"
   ]
  },
  {
   "cell_type": "code",
   "execution_count": 186,
   "id": "1abdbd73",
   "metadata": {},
   "outputs": [
    {
     "data": {
      "text/plain": [
       "array([[151.54994269],\n",
       "       [151.62902966],\n",
       "       [151.7439134 ],\n",
       "       [151.89206427],\n",
       "       [152.06572629],\n",
       "       [152.25663042],\n",
       "       [152.45804686],\n",
       "       [152.66522659],\n",
       "       [152.87516266],\n",
       "       [153.08598172],\n",
       "       [153.29661583],\n",
       "       [153.50633116],\n",
       "       [153.71459672],\n",
       "       [153.92097698],\n",
       "       [154.12508415],\n",
       "       [154.32660798],\n",
       "       [154.52529791],\n",
       "       [154.72096301],\n",
       "       [154.91352572],\n",
       "       [155.10292639],\n",
       "       [155.2891829 ],\n",
       "       [155.47234896],\n",
       "       [155.6525439 ],\n",
       "       [155.82986315],\n",
       "       [156.00446186],\n",
       "       [156.17645933],\n",
       "       [156.34599876],\n",
       "       [156.5131935 ],\n",
       "       [156.67819867],\n",
       "       [156.8411157 ]])"
      ]
     },
     "execution_count": 186,
     "metadata": {},
     "output_type": "execute_result"
    }
   ],
   "source": [
    "pred_values"
   ]
  },
  {
   "cell_type": "code",
   "execution_count": 187,
   "id": "cddeb805",
   "metadata": {},
   "outputs": [
    {
     "data": {
      "text/plain": [
       "Text(0.5, 1.0, 'Predicted values for next 30 Days')"
      ]
     },
     "execution_count": 187,
     "metadata": {},
     "output_type": "execute_result"
    },
    {
     "data": {
      "image/png": "[encoded data removed]",
      "text/plain": [
       "<Figure size 1152x576 with 1 Axes>"
      ]
     },
     "metadata": {},
     "output_type": "display_data"
    }
   ],
   "source": [
    "day_new=np.arange(1,101)\n",
    "day_pred=np.arange(101,131)\n",
    "sb.set_style('dark')\n",
    "plt.figure(figsize=(16,8))\n",
    "ax=plt.axes()\n",
    "ax.set_facecolor('black')\n",
    "plt.plot(day_pred,pred_values,color='orange')\n",
    "plt.plot(day_new,df1[1157:],color='green')\n",
    "plt.title('Predicted values for next 30 Days')"
   ]
  },
  {
   "cell_type": "code",
   "execution_count": 188,
   "id": "95172f00",
   "metadata": {},
   "outputs": [
    {
     "data": {
      "text/plain": [
       "list"
      ]
     },
     "execution_count": 188,
     "metadata": {},
     "output_type": "execute_result"
    }
   ],
   "source": [
    "df3=df1.tolist()\n",
    "df3.extend(pred_values)\n",
    "type(df3)"
   ]
  },
  {
   "cell_type": "code",
   "execution_count": 194,
   "id": "6d40ec9c",
   "metadata": {},
   "outputs": [
    {
     "data": {
      "text/plain": [
       "Text(0.5, 1.0, 'Predicted values for next 30 Days')"
      ]
     },
     "execution_count": 194,
     "metadata": {},
     "output_type": "execute_result"
    },
    {
     "data": {
      "image/png": "[encoded data removed]",
      "text/plain": [
       "<Figure size 1440x576 with 1 Axes>"
      ]
     },
     "metadata": {},
     "output_type": "display_data"
    }
   ],
   "source": [
    "sb.set_style('dark')\n",
    "plt.figure(figsize=(20,8))\n",
    "ax=plt.axes()\n",
    "ax.set_facecolor('black')\n",
    "plt.plot(df3[1200:],color='orange')\n",
    "plt.title('Predicted values for next 30 Days')"
   ]
  },
  {
   "cell_type": "code",
   "execution_count": 190,
   "id": "51706360",
   "metadata": {},
   "outputs": [],
   "source": [
    "df3=df1.tolist()"
   ]
  },
  {
   "cell_type": "code",
   "execution_count": 191,
   "id": "37d75473",
   "metadata": {},
   "outputs": [],
   "source": [
    "df3.extend(pred_values)"
   ]
  },
  {
   "cell_type": "code",
   "execution_count": 192,
   "id": "e7da54e4",
   "metadata": {},
   "outputs": [],
   "source": [
    "df3=pd.Series(df3)"
   ]
  },
  {
   "cell_type": "code",
   "execution_count": 193,
   "id": "deae5aa2",
   "metadata": {
    "scrolled": false
   },
   "outputs": [
    {
     "data": {
      "text/plain": [
       "[<matplotlib.lines.Line2D at 0x2ad945dc1f0>]"
      ]
     },
     "execution_count": 193,
     "metadata": {},
     "output_type": "execute_result"
    },
    {
     "data": {
      "image/png": "[encoded data removed]",
      "text/plain": [
       "<Figure size 1440x576 with 1 Axes>"
      ]
     },
     "metadata": {},
     "output_type": "display_data"
    }
   ],
   "source": [
    "sb.set_style('dark')\n",
    "plt.figure(figsize=(20,8))\n",
    "ax=plt.axes()\n",
    "ax.set_facecolor('black')\n",
    "plt.plot(df3,color='green')"
   ]
  },
  {
   "cell_type": "code",
   "execution_count": null,
   "id": "e45dc5a2",
   "metadata": {},
   "outputs": [],
   "source": []
  }
 ],
 "metadata": {
  "kernelspec": {
   "display_name": "Python 3",
   "language": "python",
   "name": "python3"
  },
  "language_info": {
   "codemirror_mode": {
    "name": "ipython",
    "version": 3
   },
   "file_extension": ".py",
   "mimetype": "text/x-python",
   "name": "python",
   "nbconvert_exporter": "python",
   "pygments_lexer": "ipython3",
   "version": "3.8.8"
  }
 },
 "nbformat": 4,
 "nbformat_minor": 5
}
